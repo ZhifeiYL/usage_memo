{
 "cells": [
  {
   "cell_type": "code",
   "execution_count": 8,
   "metadata": {
    "collapsed": true,
    "ExecuteTime": {
     "end_time": "2024-03-01T21:48:44.238035700Z",
     "start_time": "2024-03-01T21:48:44.221078900Z"
    }
   },
   "outputs": [],
   "source": [
    "import os\n",
    "from gams import *\n",
    "\n",
    "from util.util import get_root_dir"
   ]
  },
  {
   "cell_type": "code",
   "execution_count": 9,
   "outputs": [],
   "source": [
    "root_dir =get_root_dir()\n",
    "case_dir = \"/gams/gams_queue/queue_case/\""
   ],
   "metadata": {
    "collapsed": false,
    "ExecuteTime": {
     "end_time": "2024-03-01T21:48:44.283911500Z",
     "start_time": "2024-03-01T21:48:44.240028900Z"
    }
   }
  },
  {
   "cell_type": "code",
   "execution_count": 10,
   "outputs": [
    {
     "name": "stdout",
     "output_type": "stream",
     "text": [
      "--- Warning: The GAMS version (42.5.0) differs from the API version (45.1.0).\n"
     ]
    }
   ],
   "source": [
    "ws = GamsWorkspace(system_directory=\"C:\\GAMS\\\\42\", working_directory=root_dir+case_dir)"
   ],
   "metadata": {
    "collapsed": false,
    "ExecuteTime": {
     "end_time": "2024-03-01T21:48:44.372449900Z",
     "start_time": "2024-03-01T21:48:44.255986100Z"
    }
   }
  },
  {
   "cell_type": "code",
   "execution_count": 11,
   "outputs": [],
   "source": [
    "case_name1 = \"gomez1982\"\n",
    "job1 = ws.add_job_from_file(root_dir + case_dir + case_name1)\n",
    "job1.run()"
   ],
   "metadata": {
    "collapsed": false,
    "ExecuteTime": {
     "end_time": "2024-03-01T21:48:44.662761300Z",
     "start_time": "2024-03-01T21:48:44.365469100Z"
    }
   }
  },
  {
   "cell_type": "code",
   "execution_count": 12,
   "outputs": [],
   "source": [
    "case_name2 = \"new_branin\"\n",
    "job2 = ws.add_job_from_file(root_dir + case_dir + case_name2)\n",
    "job2.run()"
   ],
   "metadata": {
    "collapsed": false,
    "ExecuteTime": {
     "end_time": "2024-03-01T21:48:44.934184300Z",
     "start_time": "2024-03-01T21:48:44.664757200Z"
    }
   }
  }
 ],
 "metadata": {
  "kernelspec": {
   "display_name": "Python 3",
   "language": "python",
   "name": "python3"
  },
  "language_info": {
   "codemirror_mode": {
    "name": "ipython",
    "version": 2
   },
   "file_extension": ".py",
   "mimetype": "text/x-python",
   "name": "python",
   "nbconvert_exporter": "python",
   "pygments_lexer": "ipython2",
   "version": "2.7.6"
  }
 },
 "nbformat": 4,
 "nbformat_minor": 0
}
